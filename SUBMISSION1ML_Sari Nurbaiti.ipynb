{
  "nbformat": 4,
  "nbformat_minor": 0,
  "metadata": {
    "colab": {
      "name": "SUBMISSION1ML.ipynb",
      "provenance": []
    },
    "kernelspec": {
      "name": "python3",
      "display_name": "Python 3"
    },
    "language_info": {
      "name": "python"
    }
  },
  "cells": [
    {
      "cell_type": "markdown",
      "metadata": {
        "id": "BqrG9AwrKORI"
      },
      "source": [
        "Submission 1 Membuat Model NLP dengan TensorFlow \\\\\n",
        "Nama: Sari Nurbaiti \\\\\n",
        "email: sarinurbaiti850@gmail.com\\\\\n",
        "No Hp/WA : 085783778776\n",
        "\n",
        "```\n",
        "[# Ini diformat sebagai kode](https:// [teks link](https://))\n",
        "```\n",
        "\n"
      ]
    },
    {
      "cell_type": "code",
      "metadata": {
        "colab": {
          "base_uri": "https://localhost:8080/"
        },
        "id": "y-8HfhoRKLqD",
        "outputId": "19d30e11-c40c-4e81-e3ac-4af31b93f7e7"
      },
      "source": [
        "!wget --no-check-certificate \\\n",
        "  https://storage.googleapis.com/dataset-uploader/bbc/bbc-text.csv \\\n",
        "  -O /tmp/bbc-text.csv"
      ],
      "execution_count": 1,
      "outputs": [
        {
          "output_type": "stream",
          "text": [
            "--2021-07-22 07:41:04--  https://storage.googleapis.com/dataset-uploader/bbc/bbc-text.csv\n",
            "Resolving storage.googleapis.com (storage.googleapis.com)... 142.251.2.128, 74.125.137.128, 142.250.101.128, ...\n",
            "Connecting to storage.googleapis.com (storage.googleapis.com)|142.251.2.128|:443... connected.\n",
            "HTTP request sent, awaiting response... 200 OK\n",
            "Length: 5057493 (4.8M) [text/csv]\n",
            "Saving to: ‘/tmp/bbc-text.csv’\n",
            "\n",
            "/tmp/bbc-text.csv   100%[===================>]   4.82M  --.-KB/s    in 0.03s   \n",
            "\n",
            "2021-07-22 07:41:04 (161 MB/s) - ‘/tmp/bbc-text.csv’ saved [5057493/5057493]\n",
            "\n"
          ],
          "name": "stdout"
        }
      ]
    },
    {
      "cell_type": "code",
      "metadata": {
        "id": "cMZtHhkXKZCq"
      },
      "source": [
        "#Memulai prosessing data\n",
        "import pandas as pd\n",
        "df = pd.read_csv('/tmp/bbc-text.csv')"
      ],
      "execution_count": 2,
      "outputs": []
    },
    {
      "cell_type": "code",
      "metadata": {
        "colab": {
          "base_uri": "https://localhost:8080/",
          "height": 363
        },
        "id": "btWVDff6NDlQ",
        "outputId": "b5308d64-e826-41df-b3f8-c3ce4e898ce9"
      },
      "source": [
        "#Menampilkan 10 data teratas\n",
        "df.head(10)"
      ],
      "execution_count": 4,
      "outputs": [
        {
          "output_type": "execute_result",
          "data": {
            "text/html": [
              "<div>\n",
              "<style scoped>\n",
              "    .dataframe tbody tr th:only-of-type {\n",
              "        vertical-align: middle;\n",
              "    }\n",
              "\n",
              "    .dataframe tbody tr th {\n",
              "        vertical-align: top;\n",
              "    }\n",
              "\n",
              "    .dataframe thead th {\n",
              "        text-align: right;\n",
              "    }\n",
              "</style>\n",
              "<table border=\"1\" class=\"dataframe\">\n",
              "  <thead>\n",
              "    <tr style=\"text-align: right;\">\n",
              "      <th></th>\n",
              "      <th>category</th>\n",
              "      <th>text</th>\n",
              "    </tr>\n",
              "  </thead>\n",
              "  <tbody>\n",
              "    <tr>\n",
              "      <th>0</th>\n",
              "      <td>tech</td>\n",
              "      <td>tv future in the hands of viewers with home th...</td>\n",
              "    </tr>\n",
              "    <tr>\n",
              "      <th>1</th>\n",
              "      <td>business</td>\n",
              "      <td>worldcom boss  left books alone  former worldc...</td>\n",
              "    </tr>\n",
              "    <tr>\n",
              "      <th>2</th>\n",
              "      <td>sport</td>\n",
              "      <td>tigers wary of farrell  gamble  leicester say ...</td>\n",
              "    </tr>\n",
              "    <tr>\n",
              "      <th>3</th>\n",
              "      <td>sport</td>\n",
              "      <td>yeading face newcastle in fa cup premiership s...</td>\n",
              "    </tr>\n",
              "    <tr>\n",
              "      <th>4</th>\n",
              "      <td>entertainment</td>\n",
              "      <td>ocean s twelve raids box office ocean s twelve...</td>\n",
              "    </tr>\n",
              "    <tr>\n",
              "      <th>5</th>\n",
              "      <td>politics</td>\n",
              "      <td>howard hits back at mongrel jibe michael howar...</td>\n",
              "    </tr>\n",
              "    <tr>\n",
              "      <th>6</th>\n",
              "      <td>politics</td>\n",
              "      <td>blair prepares to name poll date tony blair is...</td>\n",
              "    </tr>\n",
              "    <tr>\n",
              "      <th>7</th>\n",
              "      <td>sport</td>\n",
              "      <td>henman hopes ended in dubai third seed tim hen...</td>\n",
              "    </tr>\n",
              "    <tr>\n",
              "      <th>8</th>\n",
              "      <td>sport</td>\n",
              "      <td>wilkinson fit to face edinburgh england captai...</td>\n",
              "    </tr>\n",
              "    <tr>\n",
              "      <th>9</th>\n",
              "      <td>entertainment</td>\n",
              "      <td>last star wars  not for children  the sixth an...</td>\n",
              "    </tr>\n",
              "  </tbody>\n",
              "</table>\n",
              "</div>"
            ],
            "text/plain": [
              "        category                                               text\n",
              "0           tech  tv future in the hands of viewers with home th...\n",
              "1       business  worldcom boss  left books alone  former worldc...\n",
              "2          sport  tigers wary of farrell  gamble  leicester say ...\n",
              "3          sport  yeading face newcastle in fa cup premiership s...\n",
              "4  entertainment  ocean s twelve raids box office ocean s twelve...\n",
              "5       politics  howard hits back at mongrel jibe michael howar...\n",
              "6       politics  blair prepares to name poll date tony blair is...\n",
              "7          sport  henman hopes ended in dubai third seed tim hen...\n",
              "8          sport  wilkinson fit to face edinburgh england captai...\n",
              "9  entertainment  last star wars  not for children  the sixth an..."
            ]
          },
          "metadata": {
            "tags": []
          },
          "execution_count": 4
        }
      ]
    },
    {
      "cell_type": "code",
      "metadata": {
        "colab": {
          "base_uri": "https://localhost:8080/",
          "height": 363
        },
        "id": "PouKoswXPaKF",
        "outputId": "772eb6e2-22ab-4708-b6d2-a51b6818eff6"
      },
      "source": [
        "#Melihat 10 data terbawah\n",
        "df.tail(10)"
      ],
      "execution_count": 16,
      "outputs": [
        {
          "output_type": "execute_result",
          "data": {
            "text/html": [
              "<div>\n",
              "<style scoped>\n",
              "    .dataframe tbody tr th:only-of-type {\n",
              "        vertical-align: middle;\n",
              "    }\n",
              "\n",
              "    .dataframe tbody tr th {\n",
              "        vertical-align: top;\n",
              "    }\n",
              "\n",
              "    .dataframe thead th {\n",
              "        text-align: right;\n",
              "    }\n",
              "</style>\n",
              "<table border=\"1\" class=\"dataframe\">\n",
              "  <thead>\n",
              "    <tr style=\"text-align: right;\">\n",
              "      <th></th>\n",
              "      <th>category</th>\n",
              "      <th>text</th>\n",
              "    </tr>\n",
              "  </thead>\n",
              "  <tbody>\n",
              "    <tr>\n",
              "      <th>2215</th>\n",
              "      <td>tech</td>\n",
              "      <td>junk e-mails on relentless rise spam traffic i...</td>\n",
              "    </tr>\n",
              "    <tr>\n",
              "      <th>2216</th>\n",
              "      <td>entertainment</td>\n",
              "      <td>top stars join us tsunami tv show brad pitt  r...</td>\n",
              "    </tr>\n",
              "    <tr>\n",
              "      <th>2217</th>\n",
              "      <td>tech</td>\n",
              "      <td>rings of steel combat net attacks gambling is ...</td>\n",
              "    </tr>\n",
              "    <tr>\n",
              "      <th>2218</th>\n",
              "      <td>sport</td>\n",
              "      <td>davies favours gloucester future wales hooker ...</td>\n",
              "    </tr>\n",
              "    <tr>\n",
              "      <th>2219</th>\n",
              "      <td>business</td>\n",
              "      <td>beijingers fume over parking fees choking traf...</td>\n",
              "    </tr>\n",
              "    <tr>\n",
              "      <th>2220</th>\n",
              "      <td>business</td>\n",
              "      <td>cars pull down us retail figures us retail sal...</td>\n",
              "    </tr>\n",
              "    <tr>\n",
              "      <th>2221</th>\n",
              "      <td>politics</td>\n",
              "      <td>kilroy unveils immigration policy ex-chatshow ...</td>\n",
              "    </tr>\n",
              "    <tr>\n",
              "      <th>2222</th>\n",
              "      <td>entertainment</td>\n",
              "      <td>rem announce new glasgow concert us band rem h...</td>\n",
              "    </tr>\n",
              "    <tr>\n",
              "      <th>2223</th>\n",
              "      <td>politics</td>\n",
              "      <td>how political squabbles snowball it s become c...</td>\n",
              "    </tr>\n",
              "    <tr>\n",
              "      <th>2224</th>\n",
              "      <td>sport</td>\n",
              "      <td>souness delight at euro progress boss graeme s...</td>\n",
              "    </tr>\n",
              "  </tbody>\n",
              "</table>\n",
              "</div>"
            ],
            "text/plain": [
              "           category                                               text\n",
              "2215           tech  junk e-mails on relentless rise spam traffic i...\n",
              "2216  entertainment  top stars join us tsunami tv show brad pitt  r...\n",
              "2217           tech  rings of steel combat net attacks gambling is ...\n",
              "2218          sport  davies favours gloucester future wales hooker ...\n",
              "2219       business  beijingers fume over parking fees choking traf...\n",
              "2220       business  cars pull down us retail figures us retail sal...\n",
              "2221       politics  kilroy unveils immigration policy ex-chatshow ...\n",
              "2222  entertainment  rem announce new glasgow concert us band rem h...\n",
              "2223       politics  how political squabbles snowball it s become c...\n",
              "2224          sport  souness delight at euro progress boss graeme s..."
            ]
          },
          "metadata": {
            "tags": []
          },
          "execution_count": 16
        }
      ]
    },
    {
      "cell_type": "code",
      "metadata": {
        "colab": {
          "base_uri": "https://localhost:8080/"
        },
        "id": "W4FRfpkxNS1j",
        "outputId": "f333c658-4c7a-4ab1-c506-742096f16f17"
      },
      "source": [
        "#Melihat total data\n",
        "df.shape"
      ],
      "execution_count": 5,
      "outputs": [
        {
          "output_type": "execute_result",
          "data": {
            "text/plain": [
              "(2225, 2)"
            ]
          },
          "metadata": {
            "tags": []
          },
          "execution_count": 5
        }
      ]
    },
    {
      "cell_type": "code",
      "metadata": {
        "colab": {
          "base_uri": "https://localhost:8080/"
        },
        "id": "0s1SpfsINhK3",
        "outputId": "f99feeca-2609-482d-ef60-961e7331746f"
      },
      "source": [
        "#Melihat jumlah data berdasarkan kategori\n",
        "df.category.value_counts()"
      ],
      "execution_count": 6,
      "outputs": [
        {
          "output_type": "execute_result",
          "data": {
            "text/plain": [
              "sport            511\n",
              "business         510\n",
              "politics         417\n",
              "tech             401\n",
              "entertainment    386\n",
              "Name: category, dtype: int64"
            ]
          },
          "metadata": {
            "tags": []
          },
          "execution_count": 6
        }
      ]
    },
    {
      "cell_type": "code",
      "metadata": {
        "colab": {
          "base_uri": "https://localhost:8080/"
        },
        "id": "gBR81JU7N0ZY",
        "outputId": "fdbc8a66-bad4-4d60-f94e-39c382c16c43"
      },
      "source": [
        "#Melihat informasi dari data\n",
        "df.info()"
      ],
      "execution_count": 8,
      "outputs": [
        {
          "output_type": "stream",
          "text": [
            "<class 'pandas.core.frame.DataFrame'>\n",
            "RangeIndex: 2225 entries, 0 to 2224\n",
            "Data columns (total 2 columns):\n",
            " #   Column    Non-Null Count  Dtype \n",
            "---  ------    --------------  ----- \n",
            " 0   category  2225 non-null   object\n",
            " 1   text      2225 non-null   object\n",
            "dtypes: object(2)\n",
            "memory usage: 34.9+ KB\n"
          ],
          "name": "stdout"
        }
      ]
    },
    {
      "cell_type": "code",
      "metadata": {
        "colab": {
          "base_uri": "https://localhost:8080/",
          "height": 424
        },
        "id": "JxGlkSBEOIb3",
        "outputId": "8f051acb-95f6-45bf-a3b4-529afdb1d4d8"
      },
      "source": [
        "#Menghapus kolom yang tidak digunakan\n",
        "category = pd.get_dummies(df.category)\n",
        "df_br = pd.concat([df, category], axis=1)\n",
        "df_br = df_br.drop(columns='category')\n",
        "df_br"
      ],
      "execution_count": 10,
      "outputs": [
        {
          "output_type": "execute_result",
          "data": {
            "text/html": [
              "<div>\n",
              "<style scoped>\n",
              "    .dataframe tbody tr th:only-of-type {\n",
              "        vertical-align: middle;\n",
              "    }\n",
              "\n",
              "    .dataframe tbody tr th {\n",
              "        vertical-align: top;\n",
              "    }\n",
              "\n",
              "    .dataframe thead th {\n",
              "        text-align: right;\n",
              "    }\n",
              "</style>\n",
              "<table border=\"1\" class=\"dataframe\">\n",
              "  <thead>\n",
              "    <tr style=\"text-align: right;\">\n",
              "      <th></th>\n",
              "      <th>text</th>\n",
              "      <th>business</th>\n",
              "      <th>entertainment</th>\n",
              "      <th>politics</th>\n",
              "      <th>sport</th>\n",
              "      <th>tech</th>\n",
              "    </tr>\n",
              "  </thead>\n",
              "  <tbody>\n",
              "    <tr>\n",
              "      <th>0</th>\n",
              "      <td>tv future in the hands of viewers with home th...</td>\n",
              "      <td>0</td>\n",
              "      <td>0</td>\n",
              "      <td>0</td>\n",
              "      <td>0</td>\n",
              "      <td>1</td>\n",
              "    </tr>\n",
              "    <tr>\n",
              "      <th>1</th>\n",
              "      <td>worldcom boss  left books alone  former worldc...</td>\n",
              "      <td>1</td>\n",
              "      <td>0</td>\n",
              "      <td>0</td>\n",
              "      <td>0</td>\n",
              "      <td>0</td>\n",
              "    </tr>\n",
              "    <tr>\n",
              "      <th>2</th>\n",
              "      <td>tigers wary of farrell  gamble  leicester say ...</td>\n",
              "      <td>0</td>\n",
              "      <td>0</td>\n",
              "      <td>0</td>\n",
              "      <td>1</td>\n",
              "      <td>0</td>\n",
              "    </tr>\n",
              "    <tr>\n",
              "      <th>3</th>\n",
              "      <td>yeading face newcastle in fa cup premiership s...</td>\n",
              "      <td>0</td>\n",
              "      <td>0</td>\n",
              "      <td>0</td>\n",
              "      <td>1</td>\n",
              "      <td>0</td>\n",
              "    </tr>\n",
              "    <tr>\n",
              "      <th>4</th>\n",
              "      <td>ocean s twelve raids box office ocean s twelve...</td>\n",
              "      <td>0</td>\n",
              "      <td>1</td>\n",
              "      <td>0</td>\n",
              "      <td>0</td>\n",
              "      <td>0</td>\n",
              "    </tr>\n",
              "    <tr>\n",
              "      <th>...</th>\n",
              "      <td>...</td>\n",
              "      <td>...</td>\n",
              "      <td>...</td>\n",
              "      <td>...</td>\n",
              "      <td>...</td>\n",
              "      <td>...</td>\n",
              "    </tr>\n",
              "    <tr>\n",
              "      <th>2220</th>\n",
              "      <td>cars pull down us retail figures us retail sal...</td>\n",
              "      <td>1</td>\n",
              "      <td>0</td>\n",
              "      <td>0</td>\n",
              "      <td>0</td>\n",
              "      <td>0</td>\n",
              "    </tr>\n",
              "    <tr>\n",
              "      <th>2221</th>\n",
              "      <td>kilroy unveils immigration policy ex-chatshow ...</td>\n",
              "      <td>0</td>\n",
              "      <td>0</td>\n",
              "      <td>1</td>\n",
              "      <td>0</td>\n",
              "      <td>0</td>\n",
              "    </tr>\n",
              "    <tr>\n",
              "      <th>2222</th>\n",
              "      <td>rem announce new glasgow concert us band rem h...</td>\n",
              "      <td>0</td>\n",
              "      <td>1</td>\n",
              "      <td>0</td>\n",
              "      <td>0</td>\n",
              "      <td>0</td>\n",
              "    </tr>\n",
              "    <tr>\n",
              "      <th>2223</th>\n",
              "      <td>how political squabbles snowball it s become c...</td>\n",
              "      <td>0</td>\n",
              "      <td>0</td>\n",
              "      <td>1</td>\n",
              "      <td>0</td>\n",
              "      <td>0</td>\n",
              "    </tr>\n",
              "    <tr>\n",
              "      <th>2224</th>\n",
              "      <td>souness delight at euro progress boss graeme s...</td>\n",
              "      <td>0</td>\n",
              "      <td>0</td>\n",
              "      <td>0</td>\n",
              "      <td>1</td>\n",
              "      <td>0</td>\n",
              "    </tr>\n",
              "  </tbody>\n",
              "</table>\n",
              "<p>2225 rows × 6 columns</p>\n",
              "</div>"
            ],
            "text/plain": [
              "                                                   text  business  ...  sport  tech\n",
              "0     tv future in the hands of viewers with home th...         0  ...      0     1\n",
              "1     worldcom boss  left books alone  former worldc...         1  ...      0     0\n",
              "2     tigers wary of farrell  gamble  leicester say ...         0  ...      1     0\n",
              "3     yeading face newcastle in fa cup premiership s...         0  ...      1     0\n",
              "4     ocean s twelve raids box office ocean s twelve...         0  ...      0     0\n",
              "...                                                 ...       ...  ...    ...   ...\n",
              "2220  cars pull down us retail figures us retail sal...         1  ...      0     0\n",
              "2221  kilroy unveils immigration policy ex-chatshow ...         0  ...      0     0\n",
              "2222  rem announce new glasgow concert us band rem h...         0  ...      0     0\n",
              "2223  how political squabbles snowball it s become c...         0  ...      0     0\n",
              "2224  souness delight at euro progress boss graeme s...         0  ...      1     0\n",
              "\n",
              "[2225 rows x 6 columns]"
            ]
          },
          "metadata": {
            "tags": []
          },
          "execution_count": 10
        }
      ]
    },
    {
      "cell_type": "code",
      "metadata": {
        "id": "WVjYTAT2PGpl"
      },
      "source": [
        "#Mengubah nilai dataframe ke array\n",
        "text = df_br['text'].values\n",
        "label = df_br[['business', 'entertainment', 'politics', 'sport', 'tech']].values"
      ],
      "execution_count": 19,
      "outputs": []
    },
    {
      "cell_type": "code",
      "metadata": {
        "id": "l-NcFb_LQw4X"
      },
      "source": [
        "#untuk melakukan split data\n",
        "from sklearn.model_selection import train_test_split\n",
        "text_train, text_test, label_train, label_test = train_test_split(text, label, test_size=0.2)"
      ],
      "execution_count": 24,
      "outputs": []
    },
    {
      "cell_type": "code",
      "metadata": {
        "id": "GfmGFrnERYyN"
      },
      "source": [
        "#untuk melakukan preprocessing dan layer\n",
        "import tensorflow as tf\n",
        "from tensorflow.keras.preprocessing.text import Tokenizer\n",
        "from tensorflow.keras.preprocessing.sequence import pad_sequences\n",
        "from tensorflow.keras.layers import LSTM,Dense,Embedding,Dropout\n",
        "from tensorflow.keras.models import Sequential\n",
        "from tensorflow.keras.optimizers import Adam\n",
        "\n",
        "#untuk melakukan visualisasi plot\n",
        "import matplotlib.pyplot as plt"
      ],
      "execution_count": 22,
      "outputs": []
    },
    {
      "cell_type": "code",
      "metadata": {
        "id": "BMOEXa7vR_qr"
      },
      "source": [
        "#Tokenizer\n",
        "tokenizer = Tokenizer(num_words=5000, oov_token='x')\n",
        "tokenizer.fit_on_texts(text_train) \n",
        "tokenizer.fit_on_texts(text_test)"
      ],
      "execution_count": 25,
      "outputs": []
    },
    {
      "cell_type": "code",
      "metadata": {
        "id": "4tNXbbG8QlOW"
      },
      "source": [
        "sekuens_train = tokenizer.texts_to_sequences(text_train)\n",
        "sekuens_test = tokenizer.texts_to_sequences(text_test)"
      ],
      "execution_count": 26,
      "outputs": []
    },
    {
      "cell_type": "code",
      "metadata": {
        "id": "V82X2_3xShp8"
      },
      "source": [
        "padded_train = pad_sequences(sekuens_train)\n",
        "padded_test = pad_sequences(sekuens_test)"
      ],
      "execution_count": 27,
      "outputs": []
    },
    {
      "cell_type": "code",
      "metadata": {
        "colab": {
          "base_uri": "https://localhost:8080/"
        },
        "id": "bSLp-0mxS9ky",
        "outputId": "e8cfcbde-f49a-4f4b-b3ef-3898afb50dfe"
      },
      "source": [
        "#Membuat model dari data\n",
        "model = tf.keras.Sequential([\n",
        "    tf.keras.layers.Embedding(input_dim=5000, output_dim=64),\n",
        "    tf.keras.layers.LSTM(128),\n",
        "    tf.keras.layers.Dense(128, activation='relu'),\n",
        "    tf.keras.layers.Dense(64, activation='relu'),\n",
        "    tf.keras.layers.Dense(5, activation='softmax')\n",
        "])\n",
        "model.compile(loss='categorical_crossentropy',optimizer='adam',metrics=['accuracy'])\n",
        "model.summary()"
      ],
      "execution_count": 33,
      "outputs": [
        {
          "output_type": "stream",
          "text": [
            "Model: \"sequential_2\"\n",
            "_________________________________________________________________\n",
            "Layer (type)                 Output Shape              Param #   \n",
            "=================================================================\n",
            "embedding_2 (Embedding)      (None, None, 64)          320000    \n",
            "_________________________________________________________________\n",
            "lstm_2 (LSTM)                (None, 128)               98816     \n",
            "_________________________________________________________________\n",
            "dense_6 (Dense)              (None, 128)               16512     \n",
            "_________________________________________________________________\n",
            "dense_7 (Dense)              (None, 64)                8256      \n",
            "_________________________________________________________________\n",
            "dense_8 (Dense)              (None, 5)                 325       \n",
            "=================================================================\n",
            "Total params: 443,909\n",
            "Trainable params: 443,909\n",
            "Non-trainable params: 0\n",
            "_________________________________________________________________\n"
          ],
          "name": "stdout"
        }
      ]
    },
    {
      "cell_type": "code",
      "metadata": {
        "id": "pkNLuiiXUg3Z"
      },
      "source": [
        "#Melakukan Callback \n",
        "class myCallback(tf.keras.callbacks.Callback):\n",
        "  def on_epoch_end(self, epoch, logs={}):\n",
        "    if(logs.get('accuracy')>0.9 and logs.get('val_accuracy')>0.9):\n",
        "      self.model.stop_training = True\n",
        "      print(\"\\nThe accuracy of the training set and the validation set has reached > 90%!\")\n",
        "callbacks = myCallback()"
      ],
      "execution_count": 34,
      "outputs": []
    },
    {
      "cell_type": "code",
      "metadata": {
        "colab": {
          "base_uri": "https://localhost:8080/"
        },
        "id": "YPVJmBPxU7Os",
        "outputId": "a5aaba8c-aecc-4ef7-b6da-49ffe0191c83"
      },
      "source": [
        "#Model fit yang diperoleh adalah\n",
        "num_epochs = 30\n",
        "history = model.fit(padded_train, label_train, epochs=num_epochs, callbacks=[callbacks],\n",
        "                    validation_data=(padded_test, label_test), verbose=2)"
      ],
      "execution_count": 35,
      "outputs": [
        {
          "output_type": "stream",
          "text": [
            "Epoch 1/30\n",
            "56/56 - 301s - loss: 1.5922 - accuracy: 0.2742 - val_loss: 1.5131 - val_accuracy: 0.3371\n",
            "Epoch 2/30\n",
            "56/56 - 295s - loss: 1.1590 - accuracy: 0.4809 - val_loss: 0.9670 - val_accuracy: 0.5393\n",
            "Epoch 3/30\n",
            "56/56 - 293s - loss: 0.6113 - accuracy: 0.7517 - val_loss: 0.6621 - val_accuracy: 0.7506\n",
            "Epoch 4/30\n",
            "56/56 - 293s - loss: 0.3277 - accuracy: 0.8876 - val_loss: 0.9071 - val_accuracy: 0.6652\n",
            "Epoch 5/30\n",
            "56/56 - 289s - loss: 0.1582 - accuracy: 0.9528 - val_loss: 0.8918 - val_accuracy: 0.7416\n",
            "Epoch 6/30\n",
            "56/56 - 288s - loss: 0.0714 - accuracy: 0.9747 - val_loss: 0.8153 - val_accuracy: 0.8022\n",
            "Epoch 7/30\n",
            "56/56 - 290s - loss: 0.0391 - accuracy: 0.9882 - val_loss: 0.8558 - val_accuracy: 0.8112\n",
            "Epoch 8/30\n",
            "56/56 - 288s - loss: 0.0187 - accuracy: 0.9966 - val_loss: 0.9693 - val_accuracy: 0.8000\n",
            "Epoch 9/30\n",
            "56/56 - 287s - loss: 0.0125 - accuracy: 0.9972 - val_loss: 0.8645 - val_accuracy: 0.8315\n",
            "Epoch 10/30\n",
            "56/56 - 290s - loss: 0.1075 - accuracy: 0.9590 - val_loss: 1.0002 - val_accuracy: 0.7506\n",
            "Epoch 11/30\n",
            "56/56 - 288s - loss: 0.0554 - accuracy: 0.9826 - val_loss: 0.8749 - val_accuracy: 0.8135\n",
            "Epoch 12/30\n",
            "56/56 - 289s - loss: 0.0207 - accuracy: 0.9927 - val_loss: 1.0073 - val_accuracy: 0.7798\n",
            "Epoch 13/30\n",
            "56/56 - 287s - loss: 0.0113 - accuracy: 0.9983 - val_loss: 0.8922 - val_accuracy: 0.8225\n",
            "Epoch 14/30\n",
            "56/56 - 288s - loss: 0.0020 - accuracy: 0.9994 - val_loss: 1.0120 - val_accuracy: 0.8247\n",
            "Epoch 15/30\n",
            "56/56 - 288s - loss: 4.5194e-04 - accuracy: 1.0000 - val_loss: 0.9556 - val_accuracy: 0.8337\n",
            "Epoch 16/30\n",
            "56/56 - 291s - loss: 2.8191e-04 - accuracy: 1.0000 - val_loss: 0.9795 - val_accuracy: 0.8292\n",
            "Epoch 17/30\n",
            "56/56 - 292s - loss: 2.1758e-04 - accuracy: 1.0000 - val_loss: 0.9885 - val_accuracy: 0.8292\n",
            "Epoch 18/30\n",
            "56/56 - 296s - loss: 1.7678e-04 - accuracy: 1.0000 - val_loss: 0.9960 - val_accuracy: 0.8315\n",
            "Epoch 19/30\n",
            "56/56 - 290s - loss: 1.4824e-04 - accuracy: 1.0000 - val_loss: 1.0058 - val_accuracy: 0.8292\n",
            "Epoch 20/30\n",
            "56/56 - 292s - loss: 1.2649e-04 - accuracy: 1.0000 - val_loss: 1.0075 - val_accuracy: 0.8404\n",
            "Epoch 21/30\n",
            "56/56 - 292s - loss: 1.0984e-04 - accuracy: 1.0000 - val_loss: 1.0112 - val_accuracy: 0.8404\n",
            "Epoch 22/30\n",
            "56/56 - 294s - loss: 9.6331e-05 - accuracy: 1.0000 - val_loss: 1.0181 - val_accuracy: 0.8427\n",
            "Epoch 23/30\n",
            "56/56 - 291s - loss: 8.5377e-05 - accuracy: 1.0000 - val_loss: 1.0209 - val_accuracy: 0.8472\n",
            "Epoch 24/30\n",
            "56/56 - 297s - loss: 7.6017e-05 - accuracy: 1.0000 - val_loss: 1.0330 - val_accuracy: 0.8449\n",
            "Epoch 25/30\n",
            "56/56 - 289s - loss: 6.8405e-05 - accuracy: 1.0000 - val_loss: 1.0362 - val_accuracy: 0.8494\n",
            "Epoch 26/30\n",
            "56/56 - 291s - loss: 6.1699e-05 - accuracy: 1.0000 - val_loss: 1.0383 - val_accuracy: 0.8494\n",
            "Epoch 27/30\n",
            "56/56 - 289s - loss: 5.5935e-05 - accuracy: 1.0000 - val_loss: 1.0440 - val_accuracy: 0.8494\n",
            "Epoch 28/30\n",
            "56/56 - 291s - loss: 5.1603e-05 - accuracy: 1.0000 - val_loss: 1.0498 - val_accuracy: 0.8494\n",
            "Epoch 29/30\n",
            "56/56 - 289s - loss: 4.6733e-05 - accuracy: 1.0000 - val_loss: 1.0542 - val_accuracy: 0.8494\n",
            "Epoch 30/30\n",
            "56/56 - 287s - loss: 4.3009e-05 - accuracy: 1.0000 - val_loss: 1.0557 - val_accuracy: 0.8517\n"
          ],
          "name": "stdout"
        }
      ]
    },
    {
      "cell_type": "code",
      "metadata": {
        "id": "0whRAoXBVZzE"
      },
      "source": [
        "accuracy = history.history['accuracy']\n",
        "epoch = range(len(accuracy))\n",
        "validation_accuracy = history.history['val_accuracy']\n",
        "loss = history.history['loss']\n",
        "validation_loss = history.history['val_loss']"
      ],
      "execution_count": 36,
      "outputs": []
    },
    {
      "cell_type": "code",
      "metadata": {
        "colab": {
          "base_uri": "https://localhost:8080/",
          "height": 300
        },
        "id": "X0xEJUhJVnfg",
        "outputId": "caa21f8e-0e7f-4b41-b1ee-a9cc05aff4e4"
      },
      "source": [
        "#Membuat grafik untuk training dan validation loss\n",
        "plt.plot(epoch, loss, 'r', label='Train_loss')\n",
        "plt.plot(epoch, validation_loss, 'b', label='Val_loss')\n",
        "plt.title('Train and val loss plot')\n",
        "plt.legend(loc=0)\n",
        "plt.figure()\n",
        "\n",
        "plt.show()"
      ],
      "execution_count": 37,
      "outputs": [
        {
          "output_type": "display_data",
          "data": {
            "image/png": "[encoded data removed]",
            "text/plain": [
              "<Figure size 432x288 with 1 Axes>"
            ]
          },
          "metadata": {
            "tags": [],
            "needs_background": "light"
          }
        },
        {
          "output_type": "display_data",
          "data": {
            "text/plain": [
              "<Figure size 432x288 with 0 Axes>"
            ]
          },
          "metadata": {
            "tags": []
          }
        }
      ]
    },
    {
      "cell_type": "code",
      "metadata": {
        "colab": {
          "base_uri": "https://localhost:8080/",
          "height": 300
        },
        "id": "9Auip9-lhkmT",
        "outputId": "e66d9130-d7db-4057-a04a-6dfa971f5207"
      },
      "source": [
        "#Membuat grafik untuk training dan validation accuracy\n",
        "plt.plot(epoch, accuracy, 'r', label='Train_accuracy')\n",
        "plt.plot(epoch, validation_accuracy, 'b', label='Val_accuracy')\n",
        "plt.title('Train and val accuracy plot')\n",
        "plt.legend(loc=0)\n",
        "plt.figure()\n",
        "\n",
        "plt.show()"
      ],
      "execution_count": 38,
      "outputs": [
        {
          "output_type": "display_data",
          "data": {
            "image/png": "[encoded data removed]",
            "text/plain": [
              "<Figure size 432x288 with 1 Axes>"
            ]
          },
          "metadata": {
            "tags": [],
            "needs_background": "light"
          }
        },
        {
          "output_type": "display_data",
          "data": {
            "text/plain": [
              "<Figure size 432x288 with 0 Axes>"
            ]
          },
          "metadata": {
            "tags": []
          }
        }
      ]
    }
  ]
}